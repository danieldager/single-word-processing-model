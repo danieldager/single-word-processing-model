{
 "cells": [
  {
   "cell_type": "code",
   "execution_count": 1,
   "metadata": {},
   "outputs": [],
   "source": [
    "from Phonemes import Phonemes\n",
    "from utils import seed_everything\n",
    "\n",
    "seed_everything()\n",
    "P = Phonemes()"
   ]
  },
  {
   "cell_type": "code",
   "execution_count": null,
   "metadata": {},
   "outputs": [],
   "source": [
    "from train_repetition import train_repetition\n",
    "\n",
    "params = {\n",
    "    'n_epochs': 10,\n",
    "    'h_size': 4,\n",
    "    'n_layers': 2,\n",
    "    'dropout': 0.1,\n",
    "    'l_rate': 0.001\n",
    "}\n",
    "\n",
    "train_repetition(P, params)"
   ]
  },
  {
   "cell_type": "code",
   "execution_count": 5,
   "metadata": {},
   "outputs": [
    {
     "name": "stdout",
     "output_type": "stream",
     "text": [
      "Testing epoch 1_1...\n",
      "Testing epoch 1_2...\n",
      "Testing epoch 1_3...\n",
      "Testing epoch 1_4...\n",
      "Testing epoch 1_5...\n",
      "Testing epoch 1_6...\n",
      "Testing epoch 1_7...\n",
      "Testing epoch 1_8...\n",
      "Testing epoch 1_9...\n",
      "Testing epoch 1_10...\n",
      "Testing epoch 2...\n",
      "Testing epoch 3...\n",
      "Testing epoch 4...\n",
      "Testing epoch 5...\n",
      "Testing epoch 6...\n",
      "Testing epoch 7...\n",
      "Testing epoch 8...\n",
      "Testing epoch 9...\n",
      "Testing epoch 10...\n",
      "Testing epoch 11...\n",
      "Testing epoch 12...\n",
      "Testing epoch 13...\n",
      "Testing epoch 14...\n",
      "Testing epoch 15...\n",
      "Testing epoch 16...\n",
      "Testing epoch 17...\n",
      "Testing epoch 18...\n",
      "Testing epoch 19...\n",
      "Testing epoch 20...\n",
      "Testing epoch 21...\n",
      "Testing epoch 22...\n",
      "Testing epoch 23...\n",
      "Testing epoch 24...\n",
      "Testing epoch 25...\n",
      "Testing epoch 26...\n",
      "Testing epoch 27...\n",
      "Testing epoch 28...\n",
      "Testing epoch 29...\n",
      "Testing epoch 30...\n"
     ]
    }
   ],
   "source": [
    "import pandas as pd\n",
    "pd.set_option('display.max_rows', 2000)\n",
    "from test_repetition import test_repetition\n",
    "\n",
    "# model = \"e30_h2_l2_d0.2_r0.005\"\n",
    "# model = \"e30_h4_l1_d0.2_r0.01\"\n",
    "model = \"e30_h4_l1_d0.0_r0.001\"\n",
    "# model = \"e30_h8_l1_d0.0_r0.001\"\n",
    "dfs = test_repetition(P, model)"
   ]
  },
  {
   "cell_type": "code",
   "execution_count": null,
   "metadata": {},
   "outputs": [],
   "source": [
    "import pandas as pd\n",
    "pd.set_option('display.max_rows', 2000)\n",
    "# sort test data by Zipf frequency\n",
    "P.test_data.sort_values(by='Zipf Frequency', inplace=True)\n",
    "P.test_data"
   ]
  },
  {
   "cell_type": "code",
   "execution_count": null,
   "metadata": {},
   "outputs": [],
   "source": [
    "import pandas as pd\n",
    "from pathlib import Path\n",
    "\n",
    "# Define the column names\n",
    "columns = ['hidden_size', 'num_layers', 'dropout', 'learning_rate']\n",
    "columns += [f'{loss_type}{1}-{i}' for i in range(1, 10) for loss_type in ['T', 'V']]\n",
    "columns += [f'{loss_type}{i}' for i in range(2, 31) for loss_type in ['T', 'V']]\n",
    "\n",
    "# Create the empty DataFrame\n",
    "df = pd.DataFrame(columns=columns)\n",
    "\n",
    "# Fill the DataFrame with sample hyperparameters and losses\n",
    "df.loc['steve'] = [4, 2, 0.1, 0.001] + [0.0001] * 76\n",
    "df.loc['john'] = [4, 2, 0.1, 0.001] + [0.0002] * 76\n",
    "df.loc['david'] = [4, 2, 0.1, 0.001] + [0.0003] * 76\n",
    "\n",
    "df\n",
    "# # Establish path to data directory\n",
    "# FILE_DIR = Path(__file__).resolve()\n",
    "# DATA_DIR = FILE_DIR.parent.parent.parent / \"data\"\n",
    "# DATA_DIR.mkdir(exist_ok=True)\n",
    "\n",
    "# # Save the DataFrame to a CSV file\n",
    "# df.to_csv(DATA_DIR / \"grid_search.csv\", index=False)"
   ]
  },
  {
   "cell_type": "code",
   "execution_count": null,
   "metadata": {},
   "outputs": [],
   "source": [
    "from train_repetition import grid_search_log\n",
    "\n",
    "model = \"e30_h8_l1_d0.0_r0.001\"\n",
    "\n",
    "train_losses = [0.0001] * 30\n",
    "val_losses = [0.0002] * 30\n",
    "\n",
    "grid_search_log(train_losses, val_losses, model)"
   ]
  },
  {
   "cell_type": "code",
   "execution_count": null,
   "metadata": {},
   "outputs": [],
   "source": [
    "# read grid_search.csv\n",
    "import pandas as pd\n",
    "df = pd.read_csv(\"grid_search.csv\")\n",
    "df"
   ]
  }
 ],
 "metadata": {
  "kernelspec": {
   "display_name": "base",
   "language": "python",
   "name": "python3"
  },
  "language_info": {
   "codemirror_mode": {
    "name": "ipython",
    "version": 3
   },
   "file_extension": ".py",
   "mimetype": "text/x-python",
   "name": "python",
   "nbconvert_exporter": "python",
   "pygments_lexer": "ipython3",
   "version": "3.12.2"
  }
 },
 "nbformat": 4,
 "nbformat_minor": 2
}
