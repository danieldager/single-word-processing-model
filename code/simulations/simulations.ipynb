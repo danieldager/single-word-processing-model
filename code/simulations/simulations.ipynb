{
 "cells": [
  {
   "cell_type": "code",
   "execution_count": 1,
   "metadata": {},
   "outputs": [],
   "source": [
    "from Phonemes import Phonemes\n",
    "from utils import seed_everything\n",
    "\n",
    "seed_everything()\n",
    "P = Phonemes()"
   ]
  },
  {
   "cell_type": "code",
   "execution_count": null,
   "metadata": {},
   "outputs": [
    {
     "name": "stdout",
     "output_type": "stream",
     "text": [
      "Using MPS device\n",
      "Training model with hyperparameters:\n",
      "Epochs:    10\n",
      "Hidden:    2\n",
      "Layers:    1\n",
      "Dropout:   0.0\n",
      "Learning:  0.001\n",
      "Epoch 1\n",
      "Train loss: 2.671\n",
      "Epoch 1: Train: 2.671 Valid: 3.320 Time: 400.11s\n",
      "Epoch 2\n",
      "Train loss: 2.487\n"
     ]
    }
   ],
   "source": [
    "from train_repetition import train_repetition\n",
    "\n",
    "params = {\n",
    "    'n_epochs': 10,\n",
    "    'h_size': 2,\n",
    "    'n_layers': 1,\n",
    "    'dropout': 0.0,\n",
    "    'l_rate': 0.001\n",
    "}\n",
    "train_repetition(P, params)"
   ]
  },
  {
   "cell_type": "code",
   "execution_count": null,
   "metadata": {},
   "outputs": [],
   "source": [
    "import pandas as pd\n",
    "pd.set_option('display.max_rows', 2000)\n",
    "from test_repetition import test_repetition\n",
    "\n",
    "# model = \"e30_h2_l2_d0.2_r0.005\"\n",
    "# model = \"e30_h4_l1_d0.2_r0.01\"\n",
    "# model = \"e30_h4_l1_d0.0_r0.001\"\n",
    "model = \"e30_h8_l1_d0.0_r0.001\"\n",
    "dfs = test_repetition(P, model)"
   ]
  },
  {
   "cell_type": "code",
   "execution_count": null,
   "metadata": {},
   "outputs": [],
   "source": [
    "dfs[1]"
   ]
  }
 ],
 "metadata": {
  "kernelspec": {
   "display_name": "base",
   "language": "python",
   "name": "python3"
  },
  "language_info": {
   "codemirror_mode": {
    "name": "ipython",
    "version": 3
   },
   "file_extension": ".py",
   "mimetype": "text/x-python",
   "name": "python",
   "nbconvert_exporter": "python",
   "pygments_lexer": "ipython3",
   "version": "3.12.2"
  }
 },
 "nbformat": 4,
 "nbformat_minor": 2
}
