{
 "cells": [
  {
   "cell_type": "code",
   "execution_count": 1,
   "metadata": {},
   "outputs": [
    {
     "name": "stderr",
     "output_type": "stream",
     "text": [
      "[nltk_data] Downloading package averaged_perceptron_tagger_eng to\n",
      "[nltk_data]     /Users/danieldager/nltk_data...\n",
      "[nltk_data]   Package averaged_perceptron_tagger_eng is already up-to-\n",
      "[nltk_data]       date!\n"
     ]
    },
    {
     "name": "stdout",
     "output_type": "stream",
     "text": [
      "tensor([1.], device='mps:0')\n",
      "Function sample_words Took 1.3797 seconds\n",
      "Function process_dataset Took 0.0317 seconds\n",
      "Function clean_and_enrich_data Took 0.6202 seconds\n",
      "Function process_dataset Took 0.0055 seconds\n",
      "Function clean_and_enrich_data Took 0.6801 seconds\n",
      "Function get_evaluation_data Took 1.3391 seconds\n"
     ]
    }
   ],
   "source": [
    "import torch\n",
    "import torch.nn as nn\n",
    "import torch.optim as optim\n",
    "\n",
    "from DataGenerator import DataGenerator\n",
    "from AudioEncoder import AudioEncoder\n",
    "from Decoder import Decoder\n",
    "\n",
    "# For GPU-accelerated training on apple silicon\n",
    "if torch.backends.mps.is_available():\n",
    "    mps_device = torch.device(\"mps\")\n",
    "    print(torch.ones(1, device=mps_device))\n",
    "else: print (\"MPS device not found.\")\n",
    "\n",
    "gen = DataGenerator(word_count=10000, batch_size=30)\n"
   ]
  },
  {
   "cell_type": "code",
   "execution_count": 2,
   "metadata": {},
   "outputs": [
    {
     "name": "stdout",
     "output_type": "stream",
     "text": [
      "Function get_phoneme_dataloaders Took 0.1721 seconds\n",
      "SEQ_LENGTH: 15, VOCAB_SIZE: 73\n"
     ]
    }
   ],
   "source": [
    "train_dl, eval_dl, SEQ_LENGTH, VOCAB_SIZE, index_to_phoneme = gen.get_phoneme_dataloaders()\n",
    "print(f\"SEQ_LENGTH: {SEQ_LENGTH}, VOCAB_SIZE: {VOCAB_SIZE}\")"
   ]
  },
  {
   "cell_type": "code",
   "execution_count": 3,
   "metadata": {},
   "outputs": [
    {
     "name": "stdout",
     "output_type": "stream",
     "text": [
      "torch.Size([30, 15]) torch.Size([30, 15])\n",
      "tensor([ 0,  0,  0,  0,  0,  0,  0,  0,  0,  0,  0, 15,  9,  5, 73])\n",
      "tensor([ 0,  0,  0,  0,  0,  0,  0,  0,  0,  0,  0, 15,  9,  5, 73])\n"
     ]
    }
   ],
   "source": [
    "# Inspect elements of the dataloader\n",
    "# Look for pad and stop tokens\n",
    "for i, (x, y) in enumerate(train_dl):\n",
    "    print(x.shape, y.shape)\n",
    "    print(x[0])\n",
    "    print(y[0])\n",
    "    break\n"
   ]
  },
  {
   "cell_type": "code",
   "execution_count": 4,
   "metadata": {},
   "outputs": [],
   "source": [
    "# Hyperparameters\n",
    "NUM_EPOCHS = 10\n",
    "BATCH_SIZE = 30\n",
    "HIDDEN_SIZE = 256\n",
    "DROPOUT = 0.0\n",
    "NUM_LAYERS = 1\n",
    "LEARNING_RATE = 1e-3\n",
    "TEACHER_FORCING_RATIO = 0.5\n",
    "\n",
    "# Initialize models, loss function, optimizer\n",
    "encoder = AudioEncoder(\n",
    "    input_size=VOCAB_SIZE, hidden_size=HIDDEN_SIZE, batch_size=BATCH_SIZE,\n",
    "    num_layers=NUM_LAYERS, dropout=DROPOUT\n",
    ")\n",
    "\n",
    "decoder = Decoder(\n",
    "    hidden_size=HIDDEN_SIZE, output_size=SEQ_LENGTH, batch_size=BATCH_SIZE,\n",
    "    num_layers=NUM_LAYERS, dropout=DROPOUT\n",
    ")"
   ]
  },
  {
   "cell_type": "code",
   "execution_count": 5,
   "metadata": {},
   "outputs": [
    {
     "name": "stdout",
     "output_type": "stream",
     "text": [
      "Input: torch.Size([30, 15])\n",
      "Encoder hidden: torch.Size([1, 15, 256])\n",
      "Decoder output: torch.Size([30, 15, 15])\n",
      "Decoder output argmax: torch.Size([30, 15])\n",
      "Decoder output: tensor([[[ 0.1285, -0.0785,  0.0774,  ...,  0.1036, -0.0314, -0.1492],\n",
      "         [ 0.1285, -0.0785,  0.0774,  ...,  0.1036, -0.0314, -0.1492],\n",
      "         [ 0.1285, -0.0785,  0.0774,  ...,  0.1036, -0.0314, -0.1492],\n",
      "         ...,\n",
      "         [ 0.1285, -0.0785,  0.0774,  ...,  0.1036, -0.0314, -0.1492],\n",
      "         [ 0.1285, -0.0785,  0.0774,  ...,  0.1036, -0.0314, -0.1492],\n",
      "         [ 0.1285, -0.0785,  0.0774,  ...,  0.1036, -0.0314, -0.1492]],\n",
      "\n",
      "        [[ 0.0706, -0.0925,  0.0699,  ...,  0.0679, -0.0006, -0.0701],\n",
      "         [ 0.0706, -0.0925,  0.0699,  ...,  0.0679, -0.0006, -0.0701],\n",
      "         [ 0.0706, -0.0925,  0.0699,  ...,  0.0679, -0.0006, -0.0701],\n",
      "         ...,\n",
      "         [ 0.0706, -0.0925,  0.0699,  ...,  0.0679, -0.0006, -0.0701],\n",
      "         [ 0.0706, -0.0925,  0.0699,  ...,  0.0679, -0.0006, -0.0701],\n",
      "         [ 0.0706, -0.0925,  0.0699,  ...,  0.0679, -0.0006, -0.0701]],\n",
      "\n",
      "        [[-0.0738, -0.0233,  0.0077,  ...,  0.0400, -0.0462, -0.0007],\n",
      "         [-0.0738, -0.0233,  0.0077,  ...,  0.0400, -0.0462, -0.0007],\n",
      "         [-0.0738, -0.0233,  0.0077,  ...,  0.0400, -0.0462, -0.0007],\n",
      "         ...,\n",
      "         [-0.0738, -0.0233,  0.0077,  ...,  0.0400, -0.0462, -0.0007],\n",
      "         [-0.0738, -0.0233,  0.0077,  ...,  0.0400, -0.0462, -0.0007],\n",
      "         [-0.0738, -0.0233,  0.0077,  ...,  0.0400, -0.0462, -0.0007]],\n",
      "\n",
      "        ...,\n",
      "\n",
      "        [[-0.0100, -0.0421,  0.0272,  ..., -0.0067, -0.0394, -0.0146],\n",
      "         [-0.0100, -0.0421,  0.0272,  ..., -0.0067, -0.0394, -0.0146],\n",
      "         [-0.0100, -0.0421,  0.0272,  ..., -0.0067, -0.0394, -0.0146],\n",
      "         ...,\n",
      "         [-0.0100, -0.0421,  0.0272,  ..., -0.0067, -0.0394, -0.0146],\n",
      "         [-0.0100, -0.0421,  0.0272,  ..., -0.0067, -0.0394, -0.0146],\n",
      "         [-0.0100, -0.0421,  0.0272,  ..., -0.0067, -0.0394, -0.0146]],\n",
      "\n",
      "        [[-0.0100, -0.0421,  0.0272,  ..., -0.0067, -0.0394, -0.0146],\n",
      "         [-0.0100, -0.0421,  0.0272,  ..., -0.0067, -0.0394, -0.0146],\n",
      "         [-0.0100, -0.0421,  0.0272,  ..., -0.0067, -0.0394, -0.0146],\n",
      "         ...,\n",
      "         [-0.0100, -0.0421,  0.0272,  ..., -0.0067, -0.0394, -0.0146],\n",
      "         [-0.0100, -0.0421,  0.0272,  ..., -0.0067, -0.0394, -0.0146],\n",
      "         [-0.0100, -0.0421,  0.0272,  ..., -0.0067, -0.0394, -0.0146]],\n",
      "\n",
      "        [[-0.0100, -0.0421,  0.0272,  ..., -0.0067, -0.0394, -0.0146],\n",
      "         [-0.0100, -0.0421,  0.0272,  ..., -0.0067, -0.0394, -0.0146],\n",
      "         [-0.0100, -0.0421,  0.0272,  ..., -0.0067, -0.0394, -0.0146],\n",
      "         ...,\n",
      "         [-0.0100, -0.0421,  0.0272,  ..., -0.0067, -0.0394, -0.0146],\n",
      "         [-0.0100, -0.0421,  0.0272,  ..., -0.0067, -0.0394, -0.0146],\n",
      "         [-0.0100, -0.0421,  0.0272,  ..., -0.0067, -0.0394, -0.0146]]],\n",
      "       grad_fn=<ViewBackward0>)\n",
      "Decoder output argmax: tensor([[10, 10, 10, 10, 10, 10, 10, 10, 10, 10, 10, 10, 10, 10, 10],\n",
      "        [ 6,  6,  6,  6,  6,  6,  6,  6,  6,  6,  6,  6,  6,  6,  6],\n",
      "        [ 9,  9,  9,  9,  9,  9,  9,  9,  9,  9,  9,  9,  9,  9,  9],\n",
      "        [ 6,  6,  6,  6,  6,  6,  6,  6,  6,  6,  6,  6,  6,  6,  6],\n",
      "        [ 6,  6,  6,  6,  6,  6,  6,  6,  6,  6,  6,  6,  6,  6,  6],\n",
      "        [ 7,  7,  7,  7,  7,  7,  7,  7,  7,  7,  7,  7,  7,  7,  7],\n",
      "        [ 6,  6,  6,  6,  6,  6,  6,  6,  6,  6,  6,  6,  6,  6,  6],\n",
      "        [ 6,  6,  6,  6,  6,  6,  6,  6,  6,  6,  6,  6,  6,  6,  6],\n",
      "        [ 6,  6,  6,  6,  6,  6,  6,  6,  6,  6,  6,  6,  6,  6,  6],\n",
      "        [ 6,  6,  6,  6,  6,  6,  6,  6,  6,  6,  6,  6,  6,  6,  6],\n",
      "        [ 6,  6,  6,  6,  6,  6,  6,  6,  6,  6,  6,  6,  6,  6,  6],\n",
      "        [ 6,  6,  6,  6,  6,  6,  6,  6,  6,  6,  6,  6,  6,  6,  6],\n",
      "        [ 6,  6,  6,  6,  6,  6,  6,  6,  6,  6,  6,  6,  6,  6,  6],\n",
      "        [ 6,  6,  6,  6,  6,  6,  6,  6,  6,  6,  6,  6,  6,  6,  6],\n",
      "        [ 6,  6,  6,  6,  6,  6,  6,  6,  6,  6,  6,  6,  6,  6,  6],\n",
      "        [ 6,  6,  6,  6,  6,  6,  6,  6,  6,  6,  6,  6,  6,  6,  6],\n",
      "        [ 6,  6,  6,  6,  6,  6,  6,  6,  6,  6,  6,  6,  6,  6,  6],\n",
      "        [ 6,  6,  6,  6,  6,  6,  6,  6,  6,  6,  6,  6,  6,  6,  6],\n",
      "        [ 6,  6,  6,  6,  6,  6,  6,  6,  6,  6,  6,  6,  6,  6,  6],\n",
      "        [ 6,  6,  6,  6,  6,  6,  6,  6,  6,  6,  6,  6,  6,  6,  6],\n",
      "        [ 6,  6,  6,  6,  6,  6,  6,  6,  6,  6,  6,  6,  6,  6,  6],\n",
      "        [ 6,  6,  6,  6,  6,  6,  6,  6,  6,  6,  6,  6,  6,  6,  6],\n",
      "        [ 6,  6,  6,  6,  6,  6,  6,  6,  6,  6,  6,  6,  6,  6,  6],\n",
      "        [ 6,  6,  6,  6,  6,  6,  6,  6,  6,  6,  6,  6,  6,  6,  6],\n",
      "        [ 6,  6,  6,  6,  6,  6,  6,  6,  6,  6,  6,  6,  6,  6,  6],\n",
      "        [ 6,  6,  6,  6,  6,  6,  6,  6,  6,  6,  6,  6,  6,  6,  6],\n",
      "        [ 6,  6,  6,  6,  6,  6,  6,  6,  6,  6,  6,  6,  6,  6,  6],\n",
      "        [ 6,  6,  6,  6,  6,  6,  6,  6,  6,  6,  6,  6,  6,  6,  6],\n",
      "        [ 6,  6,  6,  6,  6,  6,  6,  6,  6,  6,  6,  6,  6,  6,  6],\n",
      "        [ 6,  6,  6,  6,  6,  6,  6,  6,  6,  6,  6,  6,  6,  6,  6]])\n"
     ]
    }
   ],
   "source": [
    "# Test Models\n",
    "x = torch.zeros(BATCH_SIZE, SEQ_LENGTH, dtype=torch.int)\n",
    "print(f\"Input: {x.shape}\")\n",
    "\n",
    "hidden = encoder(x)\n",
    "print(f\"Encoder hidden: {hidden.shape}\")\n",
    "\n",
    "start = torch.zeros(BATCH_SIZE, SEQ_LENGTH, HIDDEN_SIZE)\n",
    "output = decoder(start, hidden)\n",
    "print(f\"Decoder output: {output.shape}\")\n",
    "print(f\"Decoder output argmax: {torch.argmax(output, dim=-1).shape}\")\n",
    "print(f\"Decoder output: {output}\")\n",
    "print(f\"Decoder output argmax: {torch.argmax(output, dim=-1)}\")"
   ]
  },
  {
   "cell_type": "code",
   "execution_count": 11,
   "metadata": {},
   "outputs": [
    {
     "name": "stdout",
     "output_type": "stream",
     "text": [
      "Inputs: torch.Size([30, 18])\n",
      "torch.Size([30, 18])\n"
     ]
    },
    {
     "ename": "RuntimeError",
     "evalue": "Expected target size [30, 73], got [30, 18]",
     "output_type": "error",
     "traceback": [
      "\u001b[0;31m---------------------------------------------------------------------------\u001b[0m",
      "\u001b[0;31mRuntimeError\u001b[0m                              Traceback (most recent call last)",
      "Cell \u001b[0;32mIn[11], line 23\u001b[0m\n\u001b[1;32m     20\u001b[0m decoder_output \u001b[38;5;241m=\u001b[39m decoder(decoder_input, encoder_hidden)\n\u001b[1;32m     22\u001b[0m \u001b[38;5;66;03m# Compute loss and backpropagate\u001b[39;00m\n\u001b[0;32m---> 23\u001b[0m loss \u001b[38;5;241m=\u001b[39m \u001b[43mloss_fn\u001b[49m\u001b[43m(\u001b[49m\u001b[43mdecoder_output\u001b[49m\u001b[38;5;241;43m.\u001b[39;49m\u001b[43msqueeze\u001b[49m\u001b[43m(\u001b[49m\u001b[38;5;241;43m1\u001b[39;49m\u001b[43m)\u001b[49m\u001b[43m,\u001b[49m\u001b[43m \u001b[49m\u001b[43mtargets\u001b[49m\u001b[38;5;241;43m.\u001b[39;49m\u001b[43mfloat\u001b[49m\u001b[43m(\u001b[49m\u001b[43m)\u001b[49m\u001b[43m)\u001b[49m\n\u001b[1;32m     24\u001b[0m loss\u001b[38;5;241m.\u001b[39mbackward()\n\u001b[1;32m     25\u001b[0m optimizer\u001b[38;5;241m.\u001b[39mstep()\n",
      "File \u001b[0;32m~/.pyenv/versions/3.9.1/envs/swpm/lib/python3.9/site-packages/torch/nn/modules/module.py:1553\u001b[0m, in \u001b[0;36mModule._wrapped_call_impl\u001b[0;34m(self, *args, **kwargs)\u001b[0m\n\u001b[1;32m   1551\u001b[0m     \u001b[38;5;28;01mreturn\u001b[39;00m \u001b[38;5;28mself\u001b[39m\u001b[38;5;241m.\u001b[39m_compiled_call_impl(\u001b[38;5;241m*\u001b[39margs, \u001b[38;5;241m*\u001b[39m\u001b[38;5;241m*\u001b[39mkwargs)  \u001b[38;5;66;03m# type: ignore[misc]\u001b[39;00m\n\u001b[1;32m   1552\u001b[0m \u001b[38;5;28;01melse\u001b[39;00m:\n\u001b[0;32m-> 1553\u001b[0m     \u001b[38;5;28;01mreturn\u001b[39;00m \u001b[38;5;28;43mself\u001b[39;49m\u001b[38;5;241;43m.\u001b[39;49m\u001b[43m_call_impl\u001b[49m\u001b[43m(\u001b[49m\u001b[38;5;241;43m*\u001b[39;49m\u001b[43margs\u001b[49m\u001b[43m,\u001b[49m\u001b[43m \u001b[49m\u001b[38;5;241;43m*\u001b[39;49m\u001b[38;5;241;43m*\u001b[39;49m\u001b[43mkwargs\u001b[49m\u001b[43m)\u001b[49m\n",
      "File \u001b[0;32m~/.pyenv/versions/3.9.1/envs/swpm/lib/python3.9/site-packages/torch/nn/modules/module.py:1562\u001b[0m, in \u001b[0;36mModule._call_impl\u001b[0;34m(self, *args, **kwargs)\u001b[0m\n\u001b[1;32m   1557\u001b[0m \u001b[38;5;66;03m# If we don't have any hooks, we want to skip the rest of the logic in\u001b[39;00m\n\u001b[1;32m   1558\u001b[0m \u001b[38;5;66;03m# this function, and just call forward.\u001b[39;00m\n\u001b[1;32m   1559\u001b[0m \u001b[38;5;28;01mif\u001b[39;00m \u001b[38;5;129;01mnot\u001b[39;00m (\u001b[38;5;28mself\u001b[39m\u001b[38;5;241m.\u001b[39m_backward_hooks \u001b[38;5;129;01mor\u001b[39;00m \u001b[38;5;28mself\u001b[39m\u001b[38;5;241m.\u001b[39m_backward_pre_hooks \u001b[38;5;129;01mor\u001b[39;00m \u001b[38;5;28mself\u001b[39m\u001b[38;5;241m.\u001b[39m_forward_hooks \u001b[38;5;129;01mor\u001b[39;00m \u001b[38;5;28mself\u001b[39m\u001b[38;5;241m.\u001b[39m_forward_pre_hooks\n\u001b[1;32m   1560\u001b[0m         \u001b[38;5;129;01mor\u001b[39;00m _global_backward_pre_hooks \u001b[38;5;129;01mor\u001b[39;00m _global_backward_hooks\n\u001b[1;32m   1561\u001b[0m         \u001b[38;5;129;01mor\u001b[39;00m _global_forward_hooks \u001b[38;5;129;01mor\u001b[39;00m _global_forward_pre_hooks):\n\u001b[0;32m-> 1562\u001b[0m     \u001b[38;5;28;01mreturn\u001b[39;00m \u001b[43mforward_call\u001b[49m\u001b[43m(\u001b[49m\u001b[38;5;241;43m*\u001b[39;49m\u001b[43margs\u001b[49m\u001b[43m,\u001b[49m\u001b[43m \u001b[49m\u001b[38;5;241;43m*\u001b[39;49m\u001b[38;5;241;43m*\u001b[39;49m\u001b[43mkwargs\u001b[49m\u001b[43m)\u001b[49m\n\u001b[1;32m   1564\u001b[0m \u001b[38;5;28;01mtry\u001b[39;00m:\n\u001b[1;32m   1565\u001b[0m     result \u001b[38;5;241m=\u001b[39m \u001b[38;5;28;01mNone\u001b[39;00m\n",
      "File \u001b[0;32m~/.pyenv/versions/3.9.1/envs/swpm/lib/python3.9/site-packages/torch/nn/modules/loss.py:1188\u001b[0m, in \u001b[0;36mCrossEntropyLoss.forward\u001b[0;34m(self, input, target)\u001b[0m\n\u001b[1;32m   1187\u001b[0m \u001b[38;5;28;01mdef\u001b[39;00m \u001b[38;5;21mforward\u001b[39m(\u001b[38;5;28mself\u001b[39m, \u001b[38;5;28minput\u001b[39m: Tensor, target: Tensor) \u001b[38;5;241m-\u001b[39m\u001b[38;5;241m>\u001b[39m Tensor:\n\u001b[0;32m-> 1188\u001b[0m     \u001b[38;5;28;01mreturn\u001b[39;00m \u001b[43mF\u001b[49m\u001b[38;5;241;43m.\u001b[39;49m\u001b[43mcross_entropy\u001b[49m\u001b[43m(\u001b[49m\u001b[38;5;28;43minput\u001b[39;49m\u001b[43m,\u001b[49m\u001b[43m \u001b[49m\u001b[43mtarget\u001b[49m\u001b[43m,\u001b[49m\u001b[43m \u001b[49m\u001b[43mweight\u001b[49m\u001b[38;5;241;43m=\u001b[39;49m\u001b[38;5;28;43mself\u001b[39;49m\u001b[38;5;241;43m.\u001b[39;49m\u001b[43mweight\u001b[49m\u001b[43m,\u001b[49m\n\u001b[1;32m   1189\u001b[0m \u001b[43m                           \u001b[49m\u001b[43mignore_index\u001b[49m\u001b[38;5;241;43m=\u001b[39;49m\u001b[38;5;28;43mself\u001b[39;49m\u001b[38;5;241;43m.\u001b[39;49m\u001b[43mignore_index\u001b[49m\u001b[43m,\u001b[49m\u001b[43m \u001b[49m\u001b[43mreduction\u001b[49m\u001b[38;5;241;43m=\u001b[39;49m\u001b[38;5;28;43mself\u001b[39;49m\u001b[38;5;241;43m.\u001b[39;49m\u001b[43mreduction\u001b[49m\u001b[43m,\u001b[49m\n\u001b[1;32m   1190\u001b[0m \u001b[43m                           \u001b[49m\u001b[43mlabel_smoothing\u001b[49m\u001b[38;5;241;43m=\u001b[39;49m\u001b[38;5;28;43mself\u001b[39;49m\u001b[38;5;241;43m.\u001b[39;49m\u001b[43mlabel_smoothing\u001b[49m\u001b[43m)\u001b[49m\n",
      "File \u001b[0;32m~/.pyenv/versions/3.9.1/envs/swpm/lib/python3.9/site-packages/torch/nn/functional.py:3104\u001b[0m, in \u001b[0;36mcross_entropy\u001b[0;34m(input, target, weight, size_average, ignore_index, reduce, reduction, label_smoothing)\u001b[0m\n\u001b[1;32m   3102\u001b[0m \u001b[38;5;28;01mif\u001b[39;00m size_average \u001b[38;5;129;01mis\u001b[39;00m \u001b[38;5;129;01mnot\u001b[39;00m \u001b[38;5;28;01mNone\u001b[39;00m \u001b[38;5;129;01mor\u001b[39;00m reduce \u001b[38;5;129;01mis\u001b[39;00m \u001b[38;5;129;01mnot\u001b[39;00m \u001b[38;5;28;01mNone\u001b[39;00m:\n\u001b[1;32m   3103\u001b[0m     reduction \u001b[38;5;241m=\u001b[39m _Reduction\u001b[38;5;241m.\u001b[39mlegacy_get_string(size_average, reduce)\n\u001b[0;32m-> 3104\u001b[0m \u001b[38;5;28;01mreturn\u001b[39;00m \u001b[43mtorch\u001b[49m\u001b[38;5;241;43m.\u001b[39;49m\u001b[43m_C\u001b[49m\u001b[38;5;241;43m.\u001b[39;49m\u001b[43m_nn\u001b[49m\u001b[38;5;241;43m.\u001b[39;49m\u001b[43mcross_entropy_loss\u001b[49m\u001b[43m(\u001b[49m\u001b[38;5;28;43minput\u001b[39;49m\u001b[43m,\u001b[49m\u001b[43m \u001b[49m\u001b[43mtarget\u001b[49m\u001b[43m,\u001b[49m\u001b[43m \u001b[49m\u001b[43mweight\u001b[49m\u001b[43m,\u001b[49m\u001b[43m \u001b[49m\u001b[43m_Reduction\u001b[49m\u001b[38;5;241;43m.\u001b[39;49m\u001b[43mget_enum\u001b[49m\u001b[43m(\u001b[49m\u001b[43mreduction\u001b[49m\u001b[43m)\u001b[49m\u001b[43m,\u001b[49m\u001b[43m \u001b[49m\u001b[43mignore_index\u001b[49m\u001b[43m,\u001b[49m\u001b[43m \u001b[49m\u001b[43mlabel_smoothing\u001b[49m\u001b[43m)\u001b[49m\n",
      "\u001b[0;31mRuntimeError\u001b[0m: Expected target size [30, 73], got [30, 18]"
     ]
    }
   ],
   "source": [
    "loss_fn = nn.CrossEntropyLoss() # might want to try focal loss to deal with class imbalance\n",
    "optimizer = optim.Adam(list(encoder.parameters()) + list(decoder.parameters()), lr=LEARNING_RATE)\n",
    "\n",
    "# Training loop\n",
    "for epoch in range(NUM_EPOCHS):\n",
    "    for inputs, targets in train_dl:\n",
    "\n",
    "        # Zero gradients from previous step\n",
    "        optimizer.zero_grad()\n",
    "\n",
    "        print(f\"Inputs: {inputs.shape}\")\n",
    "\n",
    "        # Encoder forward pass\n",
    "        encoder_hidden = encoder(inputs) # [num_layers, seq_length (not batch_size?), hidden_size]\n",
    "\n",
    "        # Initialize decoder input\n",
    "        decoder_input = torch.zeros(BATCH_SIZE, SEQ_LENGTH, HIDDEN_SIZE)\n",
    "        \n",
    "        # Decoder forward pass\n",
    "        decoder_output = decoder(None, encoder_hidden)\n",
    "\n",
    "        # Compute loss and backpropagate\n",
    "        loss = loss_fn(decoder_output.squeeze(1), targets.float())\n",
    "        loss.backward()\n",
    "        optimizer.step()\n",
    "\n",
    "        # If we want to use teacher forcing, we need to iterate through the target sequence\n",
    "        # Initialize decoder hidden state as encoder's final hidden state\n",
    "        # decoder_hidden = encoder_hidden\n",
    "        # for t in range(targets.size(1)):  # for each time step\n",
    "        #     # Decoder forward pass (at each time step)\n",
    "        #     decoder_output, decoder_hidden = decoder(decoder_input, decoder_hidden)\n",
    "\n",
    "        #     # Compute loss (comparing decoder output with the true target at this time step)\n",
    "        #     loss += loss_fn(decoder_output.squeeze(1), targets[:, t])\n",
    "\n",
    "        #     # Optionally use teacher forcing (use the true target as the next input)\n",
    "        #     teacher_force = random.random() < TEACHER_FORCING_RATIO\n",
    "        #     decoder_input = targets[:, t].unsqueeze(1) if teacher_force else decoder_output.argmax(dim=2)\n",
    "\n",
    "    print(f\"Epoch {epoch+1}/{NUM_EPOCHS}, Loss: {loss.item()/targets.size(1)}\")"
   ]
  },
  {
   "cell_type": "code",
   "execution_count": null,
   "metadata": {},
   "outputs": [],
   "source": [
    "# Evaluation loop\n",
    "\n",
    "for inputs, targets in train_dl:\n",
    "\n",
    "    # Encoder forward pass\n",
    "    encoder_hidden = encoder(inputs)\n",
    "\n",
    "    # Initialize decoder input\n",
    "    decoder_input = torch.zeros(BATCH_SIZE, SEQ_LENGTH, HIDDEN_SIZE)\n",
    "    \n",
    "    # Decoder forward pass\n",
    "    decoder_output = decoder(decoder_input, encoder_hidden)\n",
    "\n",
    "    # Compute loss and backpropagate\n",
    "    loss = loss_fn(decoder_output.squeeze(1), targets.float())\n",
    "    loss.backward()\n",
    "    optimizer.step()\n",
    "\n",
    "print(f\"Epoch {epoch+1}/{NUM_EPOCHS}, Loss: {loss.item()/targets.size(1)}\")"
   ]
  }
 ],
 "metadata": {
  "kernelspec": {
   "display_name": "swpm",
   "language": "python",
   "name": "python3"
  },
  "language_info": {
   "codemirror_mode": {
    "name": "ipython",
    "version": 3
   },
   "file_extension": ".py",
   "mimetype": "text/x-python",
   "name": "python",
   "nbconvert_exporter": "python",
   "pygments_lexer": "ipython3",
   "version": "3.9.1"
  }
 },
 "nbformat": 4,
 "nbformat_minor": 2
}
