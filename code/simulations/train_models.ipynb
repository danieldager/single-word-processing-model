{
 "cells": [
  {
   "cell_type": "code",
   "execution_count": 1,
   "metadata": {},
   "outputs": [
    {
     "name": "stdout",
     "output_type": "stream",
     "text": [
      "torch.Size([10000, 15, 71])\n"
     ]
    }
   ],
   "source": [
    "import torch\n",
    "import torch.nn as nn\n",
    "import torch.optim as optim\n",
    "\n",
    "from AudioEncoder import AudioEncoder\n",
    "from Decoder import Decoder\n",
    "from DataGenerator import DataGenerator\n",
    "\n",
    "gen = DataGenerator(word_count=10000, batch_size=30)\n",
    "data, SEQ_LENGTH, VOCAB_SIZE = gen.generate_phonemes()"
   ]
  },
  {
   "cell_type": "code",
   "execution_count": 2,
   "metadata": {},
   "outputs": [],
   "source": [
    "# Hyperparameters\n",
    "NUM_EPOCHS = 10\n",
    "BATCH_SIZE = 30\n",
    "HIDDEN_SIZE = 256\n",
    "DROPOUT = 0.0\n",
    "NUM_LAYERS = 1\n",
    "LEARNING_RATE = 1e-3\n",
    "TEACHER_FORCING_RATIO = 0.5\n",
    "\n",
    "# Initialize models, loss function, optimizer\n",
    "encoder = AudioEncoder(\n",
    "    input_size=VOCAB_SIZE, hidden_size=HIDDEN_SIZE, batch_size=BATCH_SIZE,\n",
    "    num_layers=NUM_LAYERS, dropout=DROPOUT\n",
    ")\n",
    "\n",
    "decoder = Decoder(\n",
    "    hidden_size=HIDDEN_SIZE, output_size=VOCAB_SIZE, batch_size=BATCH_SIZE,\n",
    "    num_layers=NUM_LAYERS, dropout=DROPOUT\n",
    ")"
   ]
  },
  {
   "cell_type": "code",
   "execution_count": 3,
   "metadata": {},
   "outputs": [
    {
     "name": "stdout",
     "output_type": "stream",
     "text": [
      "Input: torch.Size([30, 15, 71])\n",
      "Encoder hidden: torch.Size([1, 15, 256])\n",
      "Decoder output: torch.Size([30, 15, 71])\n"
     ]
    }
   ],
   "source": [
    "# Test Models\n",
    "x = torch.zeros(BATCH_SIZE, SEQ_LENGTH, VOCAB_SIZE, dtype=torch.int)\n",
    "print(f\"Input: {x.shape}\")\n",
    "\n",
    "hidden = encoder(x)\n",
    "print(f\"Encoder hidden: {hidden.shape}\")\n",
    "\n",
    "start = torch.zeros(BATCH_SIZE, SEQ_LENGTH, HIDDEN_SIZE)\n",
    "output = decoder(start, hidden)\n",
    "print(f\"Decoder output: {output.shape}\")"
   ]
  },
  {
   "cell_type": "code",
   "execution_count": 4,
   "metadata": {},
   "outputs": [
    {
     "name": "stdout",
     "output_type": "stream",
     "text": [
      "Epoch 1/10, Loss: 0.038084812959035236\n",
      "Epoch 2/10, Loss: 0.037103271484375\n",
      "Epoch 3/10, Loss: 0.03791371981302897\n",
      "Epoch 4/10, Loss: 0.035551961263020834\n",
      "Epoch 5/10, Loss: 0.034636274973551436\n",
      "Epoch 6/10, Loss: 0.03529486258824666\n",
      "Epoch 7/10, Loss: 0.03660830656687419\n",
      "Epoch 8/10, Loss: 0.03508882125218709\n",
      "Epoch 9/10, Loss: 0.03502087990442912\n",
      "Epoch 10/10, Loss: 0.03547281821568807\n"
     ]
    }
   ],
   "source": [
    "loss_fn = nn.CrossEntropyLoss() # might want to try focal loss to deal with class imbalance\n",
    "optimizer = optim.Adam(list(encoder.parameters()) + list(decoder.parameters()), lr=LEARNING_RATE)\n",
    "\n",
    "# Training loop\n",
    "for epoch in range(NUM_EPOCHS):\n",
    "    for inputs, targets in data:\n",
    "\n",
    "        # Zero gradients from previous step\n",
    "        optimizer.zero_grad()\n",
    "\n",
    "        # Encoder forward pass\n",
    "        encoder_hidden = encoder(inputs) # [num_layers, seq_length (not batch_size?), hidden_size]\n",
    "\n",
    "        # Initialize decoder input\n",
    "        decoder_input = torch.zeros(BATCH_SIZE, SEQ_LENGTH, HIDDEN_SIZE)\n",
    "        \n",
    "        # Decoder forward pass\n",
    "        decoder_output = decoder(decoder_input, encoder_hidden)\n",
    "\n",
    "        # Compute loss and backpropagate\n",
    "        loss = loss_fn(decoder_output.squeeze(1), targets.float())\n",
    "        loss.backward()\n",
    "        optimizer.step()\n",
    "\n",
    "        # If we want to use teacher forcing, we need to iterate through the target sequence\n",
    "        # Initialize decoder hidden state as encoder's final hidden state\n",
    "        # decoder_hidden = encoder_hidden\n",
    "        # for t in range(targets.size(1)):  # for each time step\n",
    "        #     # Decoder forward pass (at each time step)\n",
    "        #     decoder_output, decoder_hidden = decoder(decoder_input, decoder_hidden)\n",
    "\n",
    "        #     # Compute loss (comparing decoder output with the true target at this time step)\n",
    "        #     loss += loss_fn(decoder_output.squeeze(1), targets[:, t])\n",
    "\n",
    "        #     # Optionally use teacher forcing (use the true target as the next input)\n",
    "        #     teacher_force = random.random() < TEACHER_FORCING_RATIO\n",
    "        #     decoder_input = targets[:, t].unsqueeze(1) if teacher_force else decoder_output.argmax(dim=2)\n",
    "\n",
    "    print(f\"Epoch {epoch+1}/{NUM_EPOCHS}, Loss: {loss.item()/targets.size(1)}\")"
   ]
  }
 ],
 "metadata": {
  "kernelspec": {
   "display_name": "swpm",
   "language": "python",
   "name": "python3"
  },
  "language_info": {
   "codemirror_mode": {
    "name": "ipython",
    "version": 3
   },
   "file_extension": ".py",
   "mimetype": "text/x-python",
   "name": "python",
   "nbconvert_exporter": "python",
   "pygments_lexer": "ipython3",
   "version": "3.8.12"
  }
 },
 "nbformat": 4,
 "nbformat_minor": 2
}
