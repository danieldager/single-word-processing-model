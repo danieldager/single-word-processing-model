{
 "cells": [
  {
   "cell_type": "code",
   "execution_count": 1,
   "metadata": {},
   "outputs": [],
   "source": [
    "from Phonemes import Phonemes\n",
    "from utils import seed_everything\n",
    "\n",
    "seed_everything()\n",
    "P = Phonemes()"
   ]
  },
  {
   "cell_type": "code",
   "execution_count": null,
   "metadata": {},
   "outputs": [],
   "source": [
    "from train_repetition import train_repetition\n",
    "\n",
    "params = {\n",
    "    'n_epochs': 10,\n",
    "    'h_size': 4,\n",
    "    'n_layers': 2,\n",
    "    'dropout': 0.1,\n",
    "    'l_rate': 0.001\n",
    "}\n",
    "\n",
    "train_repetition(P, params)"
   ]
  },
  {
   "cell_type": "code",
   "execution_count": null,
   "metadata": {},
   "outputs": [
    {
     "name": "stdout",
     "output_type": "stream",
     "text": [
      "Using MPS device\n",
      "Testing epoch 1_1...\n",
      "Testing epoch 1_2...\n",
      "Testing epoch 1_3...\n",
      "Testing epoch 1_4...\n",
      "Testing epoch 1_5...\n",
      "Testing epoch 1_6...\n",
      "Testing epoch 1_7...\n",
      "Testing epoch 1_8...\n",
      "Testing epoch 1_9...\n",
      "Testing epoch 1_10...\n"
     ]
    }
   ],
   "source": [
    "from test_repetition import test_repetition\n",
    "\n",
    "model_name = \"e10_h4_l2_d0.1_r0.001\"\n",
    "\n",
    "dfrs = test_repetition(P, model_name)"
   ]
  },
  {
   "cell_type": "code",
   "execution_count": null,
   "metadata": {},
   "outputs": [],
   "source": [
    "import pandas as pd\n",
    "pd.set_option('display.max_rows', 2000)\n",
    "# sort test data by Zipf frequency\n",
    "P.test_data.sort_values(by='Zipf Frequency', inplace=True)\n",
    "P.test_data"
   ]
  },
  {
   "cell_type": "code",
   "execution_count": null,
   "metadata": {},
   "outputs": [],
   "source": []
  }
 ],
 "metadata": {
  "kernelspec": {
   "display_name": "base",
   "language": "python",
   "name": "python3"
  },
  "language_info": {
   "codemirror_mode": {
    "name": "ipython",
    "version": 3
   },
   "file_extension": ".py",
   "mimetype": "text/x-python",
   "name": "python",
   "nbconvert_exporter": "python",
   "pygments_lexer": "ipython3",
   "version": "3.12.2"
  }
 },
 "nbformat": 4,
 "nbformat_minor": 2
}
