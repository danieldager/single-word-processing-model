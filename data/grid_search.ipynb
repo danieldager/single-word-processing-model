{
 "cells": [
  {
   "cell_type": "code",
   "execution_count": 1,
   "metadata": {},
   "outputs": [
    {
     "name": "stdout",
     "output_type": "stream",
     "text": [
      "                model  hidden_size  num_layers  dropout  learning_rate      T30       V30\n",
      "e30_h8_l1_d0.0_r0.001            8           1      0.0          0.001 0.000112  0.001016\n",
      "e30_h8_l2_d0.0_r0.001            8           2      0.0          0.001 0.001857  0.001495\n",
      "e30_h4_l1_d0.0_r0.001            4           1      0.0          0.001 0.000408  0.003555\n",
      "e30_h8_l1_d0.1_r0.001            8           1      0.1          0.001 0.010726  0.005939\n",
      "e30_h4_l1_d0.0_r0.001            4           1      0.0          0.001 0.001015  0.007012\n",
      "e30_h4_l1_d0.0_r0.005            4           1      0.0          0.005 0.002704  0.007153\n",
      "e30_h4_l2_d0.0_r0.001            4           2      0.0          0.001 0.001536  0.007458\n",
      "e30_h8_l2_d0.1_r0.001            8           2      0.1          0.001 0.020540  0.009342\n",
      "e30_h8_l1_d0.2_r0.001            8           1      0.2          0.001 0.024268  0.011279\n",
      "e30_h8_l1_d0.1_r0.005            8           1      0.1          0.005 0.036716  0.015092\n",
      "e30_h4_l2_d0.0_r0.001            4           2      0.0          0.001 0.001354  0.015335\n",
      "e30_h8_l1_d0.0_r0.005            8           1      0.0          0.005 0.001058  0.017744\n",
      " e30_h8_l1_d0.0_r0.01            8           1      0.0          0.010 0.006239  0.019154\n",
      "e30_h8_l1_d0.2_r0.005            8           1      0.2          0.005 0.062177  0.022939\n",
      "e30_h8_l2_d0.2_r0.001            8           2      0.2          0.001 0.072133  0.026948\n",
      "e30_h4_l2_d0.0_r0.005            4           2      0.0          0.005 0.020435  0.032922\n",
      " e30_h4_l1_d0.0_r0.01            4           1      0.0          0.010 0.036036  0.050281\n",
      "e30_h8_l2_d0.1_r0.005            8           2      0.1          0.005 0.121817  0.058734\n",
      "e30_h8_l2_d0.0_r0.005            8           2      0.0          0.005 0.036698  0.060609\n",
      " e30_h8_l1_d0.1_r0.01            8           1      0.1          0.010 0.130932  0.065161\n",
      "e30_h2_l1_d0.0_r0.005            2           1      0.0          0.005 0.027812  0.076203\n",
      " e30_h2_l1_d0.0_r0.01            2           1      0.0          0.010 0.041741  0.093611\n",
      "e30_h4_l1_d0.1_r0.005            4           1      0.1          0.005 0.155719  0.096373\n",
      "e30_h8_l2_d0.2_r0.005            8           2      0.2          0.005 0.257320  0.159434\n",
      " e30_h8_l1_d0.2_r0.01            8           1      0.2          0.010 0.336047  0.174850\n",
      "e30_h4_l2_d0.1_r0.001            4           2      0.1          0.001 0.289920  0.192726\n",
      "e30_h4_l2_d0.1_r0.001            4           2      0.1          0.001 0.268192  0.262683\n",
      "e30_h4_l1_d0.1_r0.001            4           1      0.1          0.001 0.336403  0.288634\n",
      " e30_h4_l1_d0.2_r0.01            4           1      0.2          0.010 0.438315  0.299998\n",
      " e30_h8_l2_d0.0_r0.01            8           2      0.0          0.010 0.178139  0.300954\n",
      " e30_h4_l1_d0.1_r0.01            4           1      0.1          0.010 0.315580  0.319817\n",
      "e30_h4_l2_d0.1_r0.005            4           2      0.1          0.005 0.460822  0.351881\n",
      "e30_h2_l1_d0.0_r0.001            2           1      0.0          0.001 0.250587  0.396649\n",
      "e30_h4_l1_d0.1_r0.001            4           1      0.1          0.001 0.351460  0.402681\n",
      "e30_h2_l2_d0.0_r0.001            2           2      0.0          0.001 0.246021  0.406098\n",
      "e30_h4_l1_d0.2_r0.005            4           1      0.2          0.005 0.395593  0.411602\n",
      "e30_h2_l1_d0.0_r0.001            2           1      0.0          0.001 0.326582  0.449332\n",
      " e30_h8_l2_d0.1_r0.01            8           2      0.1          0.010 0.543346  0.481957\n",
      "e30_h4_l2_d0.2_r0.005            4           2      0.2          0.005 0.824620  0.625275\n",
      "e30_h4_l2_d0.2_r0.001            4           2      0.2          0.001 0.653496  0.656758\n",
      "e30_h4_l1_d0.2_r0.001            4           1      0.2          0.001 0.287340  0.675606\n",
      "e30_h4_l1_d0.2_r0.001            4           1      0.2          0.001 0.312444  0.744616\n",
      " e30_h8_l2_d0.2_r0.01            8           2      0.2          0.010 0.950794  0.801259\n",
      "e30_h4_l2_d0.2_r0.001            4           2      0.2          0.001 0.760258  0.810654\n",
      " e30_h4_l2_d0.0_r0.01            4           2      0.0          0.010 0.495732  0.853842\n",
      "e30_h2_l1_d0.1_r0.005            2           1      0.1          0.005 0.786846  0.973725\n",
      "e30_h2_l2_d0.0_r0.005            2           2      0.0          0.005 0.841195  1.068216\n",
      " e30_h1_l2_d0.0_r0.01            1           2      0.0          0.010 0.845684  1.078463\n",
      " e30_h1_l1_d0.0_r0.01            1           1      0.0          0.010 0.884502  1.147301\n",
      "e30_h1_l1_d0.0_r0.005            1           1      0.0          0.005 0.953454  1.237392\n",
      "e30_h2_l2_d0.0_r0.001            2           2      0.0          0.001 0.979204  1.240610\n",
      "e30_h1_l2_d0.0_r0.005            1           2      0.0          0.005 0.989347  1.272549\n",
      " e30_h2_l1_d0.1_r0.01            2           1      0.1          0.010 1.303059  1.430314\n",
      "e30_h2_l1_d0.1_r0.001            2           1      0.1          0.001 1.048976  1.449175\n",
      "e30_h2_l1_d0.1_r0.001            2           1      0.1          0.001 1.085634  1.594831\n",
      "e30_h1_l2_d0.0_r0.001            1           2      0.0          0.001 1.302001  1.640411\n",
      "e30_h2_l2_d0.2_r0.001            2           2      0.2          0.001 1.588711  1.753628\n",
      " e30_h2_l2_d0.1_r0.01            2           2      0.1          0.010 1.656213  1.758022\n",
      "e30_h1_l1_d0.0_r0.001            1           1      0.0          0.001 1.418697  1.763459\n",
      " e30_h4_l2_d0.2_r0.01            4           2      0.2          0.010 1.707863  1.779376\n",
      "e30_h2_l2_d0.1_r0.001            2           2      0.1          0.001 1.525897  1.883098\n",
      "e30_h2_l2_d0.2_r0.001            2           2      0.2          0.001 1.782936  1.966436\n",
      "e30_h1_l1_d0.1_r0.005            1           1      0.1          0.005 2.062775  2.131437\n",
      " e30_h1_l1_d0.1_r0.01            1           1      0.1          0.010 2.084805  2.142824\n",
      "e30_h1_l2_d0.1_r0.005            1           2      0.1          0.005 2.159750  2.200726\n",
      "e30_h1_l1_d0.1_r0.001            1           1      0.1          0.001 2.089690  2.237731\n",
      "e30_h1_l2_d0.1_r0.001            1           2      0.1          0.001 2.131722  2.239378\n",
      " e30_h1_l2_d0.1_r0.01            1           2      0.1          0.010 2.221562  2.260792\n",
      "e30_h2_l1_d0.2_r0.001            2           1      0.2          0.001 1.554339  2.307157\n",
      "e30_h1_l1_d0.2_r0.005            1           1      0.2          0.005 2.327501  2.375889\n",
      "e30_h1_l1_d0.2_r0.001            1           1      0.2          0.001 2.301834  2.383702\n",
      " e30_h1_l1_d0.2_r0.01            1           1      0.2          0.010 2.369866  2.406519\n",
      "e30_h1_l2_d0.2_r0.005            1           2      0.2          0.005 2.433705  2.431014\n",
      "e30_h1_l2_d0.2_r0.001            1           2      0.2          0.001 2.394540  2.443449\n",
      "e30_h2_l2_d0.1_r0.001            2           2      0.1          0.001 1.411004  2.445514\n",
      " e30_h2_l2_d0.2_r0.01            2           2      0.2          0.010 2.040219  2.459256\n",
      " e30_h2_l1_d0.2_r0.01            2           1      0.2          0.010 1.458227  2.479959\n",
      " e30_h4_l2_d0.1_r0.01            4           2      0.1          0.010 2.203809  2.539446\n",
      " e30_h1_l2_d0.2_r0.01            1           2      0.2          0.010 2.490746  2.607884\n",
      "e30_h2_l1_d0.2_r0.005            2           1      0.2          0.005 1.286252  2.715743\n",
      "e30_h2_l1_d0.2_r0.001            2           1      0.2          0.001 1.467211  2.978762\n",
      " e30_h2_l2_d0.0_r0.01            2           2      0.0          0.010 0.670027  3.800486\n",
      "e30_h2_l2_d0.2_r0.005            2           2      0.2          0.005 1.525002  5.566627\n",
      "e30_h2_l2_d0.1_r0.005            2           2      0.1          0.005 1.385408 10.228189\n"
     ]
    },
    {
     "data": {
      "text/plain": [
       "<seaborn.axisgrid.FacetGrid at 0x11c67a4e0>"
      ]
     },
     "execution_count": 1,
     "metadata": {},
     "output_type": "execute_result"
    },
    {
     "data": {
      "image/png": "[encoded data removed]",
      "text/plain": [
       "<Figure size 1092.61x500 with 2 Axes>"
      ]
     },
     "metadata": {},
     "output_type": "display_data"
    }
   ],
   "source": [
    "# read grid_search.csv and plot the results\n",
    "\n",
    "import pandas as pd\n",
    "import seaborn as sns\n",
    "import matplotlib.pyplot as plt\n",
    "pd.set_option('display.max_rows', 2000)\n",
    "\n",
    "df = pd.read_csv('grid_search.csv')\n",
    "\n",
    "# Sort models by V30\n",
    "df = df.sort_values('V30', ascending=True)\n",
    "columns = ['model', 'hidden_size', 'num_layers', 'dropout', 'learning_rate', 'T30', 'V30']\n",
    "print(df[columns].to_string(index=False))\n",
    "\n",
    "\n",
    "sns.catplot(data=df, x='learning_rate', col='num_layers', kind='bar', y='V30', hue='hidden_size')"
   ]
  },
  {
   "cell_type": "code",
   "execution_count": null,
   "metadata": {},
   "outputs": [],
   "source": []
  }
 ],
 "metadata": {
  "kernelspec": {
   "display_name": "base",
   "language": "python",
   "name": "python3"
  },
  "language_info": {
   "codemirror_mode": {
    "name": "ipython",
    "version": 3
   },
   "file_extension": ".py",
   "mimetype": "text/x-python",
   "name": "python",
   "nbconvert_exporter": "python",
   "pygments_lexer": "ipython3",
   "version": "3.12.2"
  }
 },
 "nbformat": 4,
 "nbformat_minor": 2
}
